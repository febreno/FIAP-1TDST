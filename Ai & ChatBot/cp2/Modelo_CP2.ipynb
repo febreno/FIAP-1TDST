{
  "nbformat": 4,
  "nbformat_minor": 0,
  "metadata": {
    "colab": {
      "provenance": []
    },
    "kernelspec": {
      "name": "python3",
      "display_name": "Python 3"
    },
    "language_info": {
      "name": "python"
    }
  },
  "cells": [
    {
      "cell_type": "markdown",
      "metadata": {
        "id": "nynuq-iVOw-x"
      },
      "source": [
        "**CP2 - Inteligência Artificial e Computacional**\n",
        "\n",
        "Classificadores\n",
        "\n",
        "---\n",
        "\n",
        "Nomes:\n",
        "\n",
        "[Colocar nome e RM dos integrantes do grupo]"
      ]
    },
    {
      "cell_type": "markdown",
      "metadata": {
        "id": "SYoh9K4ePzMB"
      },
      "source": [
        "*Orientações:*\n",
        "\n",
        "*   Esse arquivo contem o modelo esperado de respostas para a CP2. Podem ser acrescentadas algumas outras informações ou trechos com códigos, entretanto não esqueçam de responder todos os pontos que foram levantados a seguir\n",
        "*   **CP2 em duplas**\n",
        "*   Usar o arquivo 40922.csv para receber os seus dados e realizar esse CP\n",
        "*   Prazo de entrega: 26/09 via TEAMS\n",
        "*   Entregar esse arquivo com a sua resolução via TEAMS"
      ]
    },
    {
      "cell_type": "markdown",
      "metadata": {
        "id": "ZRqlrqGYPMmR"
      },
      "source": [
        "## Exercícico de Classificação de Dados"
      ]
    },
    {
      "cell_type": "code",
      "metadata": {
        "id": "6VWWhVeqaoLp"
      },
      "source": [
        "# Tratamento dos dados\n",
        "import numpy as np\n",
        "import pandas as pd\n",
        "from collections import Counter\n",
        "\n",
        "# Modelos de Machine Learning\n",
        "from sklearn.model_selection import train_test_split\n",
        "from sklearn.preprocessing import StandardScaler\n",
        "\n",
        "#######################################################################\n",
        "# IMPORTAR SEUS MODELOS DE MACHILE LEARNING E OUTRAS BIBS NECESSÁRIAS\n",
        "#######################################################################\n",
        "\n",
        "# Métricas de avaliação\n",
        "from sklearn.metrics import f1_score, roc_auc_score, roc_curve, ConfusionMatrixDisplay, RocCurveDisplay, confusion_matrix, classification_report, plot_roc_curve\n",
        "\n",
        "# importando os datasets padroes do sklearn\n",
        "from sklearn.preprocessing import StandardScaler, MinMaxScaler\n",
        "\n",
        "\n",
        "# Plot dos gráficos\n",
        "import matplotlib.pyplot as plt\n",
        "import matplotlib\n",
        "from matplotlib import colors\n",
        "import seaborn as sns"
      ],
      "execution_count": null,
      "outputs": []
    },
    {
      "cell_type": "markdown",
      "metadata": {
        "id": "QHn-vYdFPTq5"
      },
      "source": [
        "1. Carregar os dataset do exercício:"
      ]
    },
    {
      "cell_type": "code",
      "metadata": {
        "id": "_zWSAfzWPL7J"
      },
      "source": [
        "# Carregue aqui o conjunto de dados\n"
      ],
      "execution_count": null,
      "outputs": []
    },
    {
      "cell_type": "markdown",
      "metadata": {
        "id": "3XWgk50QPoZg"
      },
      "source": [
        "Esse conjunto de dados possui os seguintes atributos:\n",
        "\n",
        "Dados dos sensores:\n",
        "*   acceleration_x\n",
        "*   acceleration_y\n",
        "*   acceleration_z\n",
        "*   gyro_x\n",
        "*   gyro_y\n",
        "*   gyro_z\n",
        "\n",
        "Atividade física: \n",
        "*   \"0\": andando e \"1\": correndo"
      ]
    },
    {
      "cell_type": "markdown",
      "metadata": {
        "id": "V25pwzPJPY_P"
      },
      "source": [
        "2. Fazer a análise exploratória dos dados \n",
        "\n",
        "Responda aos seguintes itens:\n",
        "\n",
        "a) Verificação os tipos de dados envolvidos;\n",
        "\n",
        "b) Verificar as médias, desvios padrões e distribuição dos dados\n",
        "\n",
        "c) Checar por valores nulos no conjunto de dados (e se existir, tratá-los)\n",
        "\n",
        "d) Verificar se existem atributos categóricos para serem tratados. (e se existir, tratá-los)\n",
        "\n",
        "e) Verificar via heatmap com a correlação de Pearson a relação entre os atributos"
      ]
    },
    {
      "cell_type": "code",
      "metadata": {
        "id": "d64-mYx0Owec"
      },
      "source": [],
      "execution_count": null,
      "outputs": []
    },
    {
      "cell_type": "markdown",
      "metadata": {
        "id": "FRd8_b1wRdEr"
      },
      "source": [
        "3a. Dividir os dados em conjunto de treinamento (75%) e teste (25%). Escalar os dados se necessário e JUSTIFICAR porque os dados foram escalados ou não."
      ]
    },
    {
      "cell_type": "code",
      "metadata": {
        "id": "uuAyR8aIRtkq"
      },
      "source": [],
      "execution_count": null,
      "outputs": []
    },
    {
      "cell_type": "markdown",
      "source": [
        "3b. Treinar ao menos 3 modelos distintos de Aprendizado de Máquina. Escolha três modelos entre aqueles vistos em aula para fazer o treinamento."
      ],
      "metadata": {
        "id": "t5uWL7MIpIxa"
      }
    },
    {
      "cell_type": "code",
      "source": [],
      "metadata": {
        "id": "HCxX9Knnd5JR"
      },
      "execution_count": null,
      "outputs": []
    },
    {
      "cell_type": "markdown",
      "metadata": {
        "id": "rhRH_H19Rvk6"
      },
      "source": [
        "4. Levantar as metricas de desempenho \n",
        "\n",
        "[Matriz de confusão, Precisão, Revocação, Acurácia e F1-Score]"
      ]
    },
    {
      "cell_type": "code",
      "metadata": {
        "id": "SrnDaJogR2Vz"
      },
      "source": [],
      "execution_count": null,
      "outputs": []
    },
    {
      "cell_type": "markdown",
      "metadata": {
        "id": "4ntLK1s6R3ED"
      },
      "source": [
        "5. Conclusão\n",
        "\n",
        "a) Qual o melhor modelo, entre os modelos treinado, para esse conjunto de dados?"
      ]
    },
    {
      "cell_type": "markdown",
      "source": [
        "[SUA RESPOSTA AQUI]"
      ],
      "metadata": {
        "id": "swffnJfEp4hQ"
      }
    },
    {
      "cell_type": "markdown",
      "source": [
        "b) Caso necessitarmos o modelo com a melhor revocação considerando a classe '0' como a classe positiva. Qual seria o melhor modelo?"
      ],
      "metadata": {
        "id": "GMwDgg7dqJLu"
      }
    },
    {
      "cell_type": "markdown",
      "source": [
        "[SUA RESPOSTA AQUI]"
      ],
      "metadata": {
        "id": "nYqzdBgIqZwf"
      }
    }
  ]
}