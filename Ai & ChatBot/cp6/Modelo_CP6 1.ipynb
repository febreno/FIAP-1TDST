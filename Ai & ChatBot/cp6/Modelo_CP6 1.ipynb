{
  "nbformat": 4,
  "nbformat_minor": 0,
  "metadata": {
    "colab": {
      "provenance": []
    },
    "kernelspec": {
      "name": "python3",
      "display_name": "Python 3"
    },
    "language_info": {
      "name": "python"
    }
  },
  "cells": [
    {
      "cell_type": "markdown",
      "metadata": {
        "id": "SYoh9K4ePzMB"
      },
      "source": [
        "*Orientações:*\n",
        "\n",
        "Esse arquivo contem o modelo esperado de respostas para a NAC 3. Podem ser acrescentadas algumas outras informações ou trechos com códigos, entretanto não esqueçam de responder todos os pontos que foram levantados a seguir\n",
        "\n",
        "*   Fazer o CP6 em grupos do Challenge;\n",
        "*   Entregar até o dia 21/10/2022 via TEAMS;\n",
        "*   Utilizar o conjunto de dados CP6.csv para fazer a atividade;\n",
        "*   Entregar esse arquivo com a sua resolução via TEAMS\n",
        "\n"
      ]
    },
    {
      "cell_type": "markdown",
      "metadata": {
        "id": "nynuq-iVOw-x"
      },
      "source": [
        "**CP6 - Inteligência Artificial e Computacional**\n",
        "\n",
        "Algoritmos de Regressão\n",
        "\n",
        "---\n",
        "\n",
        "\n",
        "Nomes:\n",
        "\n",
        "[Colocar nome e RM dos integrantes do grupo]"
      ]
    },
    {
      "cell_type": "markdown",
      "metadata": {
        "id": "ZRqlrqGYPMmR"
      },
      "source": [
        "## Exercício CP6"
      ]
    },
    {
      "cell_type": "markdown",
      "source": [
        "Importar suas bibliotecas aqui:"
      ],
      "metadata": {
        "id": "upzXzlGwn8aM"
      }
    },
    {
      "cell_type": "code",
      "source": [
        "# Importando as bibliotecas para os modelos\n",
        "import pandas as pd\n",
        "from sklearn.linear_model import LinearRegression\n",
        "from sklearn.model_selection import train_test_split\n",
        "from sklearn.preprocessing import StandardScaler\n",
        "from sklearn.preprocessing import OneHotEncoder\n",
        "\n",
        "import numpy as np\n",
        "from collections import Counter\n",
        "\n",
        "from sklearn.metrics import mean_squared_error, mean_absolute_error, r2_score, f1_score, roc_auc_score, roc_curve, ConfusionMatrixDisplay, RocCurveDisplay, confusion_matrix, classification_report, plot_roc_curve\n",
        "\n",
        "# Modelos de Machine Learning\n",
        "############################################\n",
        "# Inserir seus modelos de Machine Learning\n",
        "############################################\n",
        "\n",
        "from sklearn.model_selection import train_test_split\n",
        "from sklearn.preprocessing import StandardScaler, MinMaxScaler\n",
        "\n",
        "from google_drive_downloader import GoogleDriveDownloader as gdd\n",
        "\n",
        "\n",
        "# Plot dos gráficos\n",
        "import matplotlib.pyplot as plt\n",
        "import matplotlib\n",
        "from matplotlib import colors\n",
        "import seaborn as sns"
      ],
      "metadata": {
        "id": "_p92aDGtn5QF"
      },
      "execution_count": null,
      "outputs": []
    },
    {
      "cell_type": "markdown",
      "metadata": {
        "id": "QHn-vYdFPTq5"
      },
      "source": [
        "1. Carregar os dataset do exercício:"
      ]
    },
    {
      "cell_type": "code",
      "metadata": {
        "id": "_zWSAfzWPL7J"
      },
      "source": [],
      "execution_count": null,
      "outputs": []
    },
    {
      "cell_type": "markdown",
      "source": [
        "Os atributos desse conjunto de dados são:\n",
        "\n",
        "*    model: modelo do veículo;\n",
        "*    engine_power: potência do motor;\n",
        "*    transmission: tipo da transmissão do carro;\n",
        "*    age_in_days: quantidade de dias desde a fabricação do carro;\n",
        "*    km: quantidade de quilometros que o veículo já percorreu;\n",
        "*    previous_owners: Quantidade de donos anteriores do veículo;\n",
        "*    lat: latitude do vendedor (os carros podem variar seu preço de acordo com sua localização)\n",
        "*    lon: longitude do vendedor (os carros podem variar seu preço de acordo com sua localização)\n",
        "*    price: preço de venda do veículo (target da nossa CP6)"
      ],
      "metadata": {
        "id": "KLefDWFI_Wh3"
      }
    },
    {
      "cell_type": "markdown",
      "metadata": {
        "id": "V25pwzPJPY_P"
      },
      "source": [
        "2. Fazer a análise exploratória dos dados \n",
        "\n",
        "Responda aos seguintes itens:\n",
        "\n",
        "a) Verificação os tipos de dados envolvidos;\n",
        "\n",
        "b) Verificar as médias, desvios padrões e distribuição dos dados\n",
        "\n",
        "c) Checar por valores nulos no conjunto de dados (e se existir, tratá-los)\n",
        "\n",
        "d) Verificar se existem atributos categóricos para serem tratados. (e se existir, tratá-los)\n",
        "\n",
        "e) Verificar via heatmap com a correlação de Pearson a relação entre os atributos"
      ]
    },
    {
      "cell_type": "code",
      "metadata": {
        "id": "d64-mYx0Owec"
      },
      "source": [],
      "execution_count": null,
      "outputs": []
    },
    {
      "cell_type": "markdown",
      "metadata": {
        "id": "FRd8_b1wRdEr"
      },
      "source": [
        "3. Dividir os dados em conjunto de treinamento e teste e treinar dois modelos distintos de regressão."
      ]
    },
    {
      "cell_type": "code",
      "metadata": {
        "id": "uuAyR8aIRtkq"
      },
      "source": [],
      "execution_count": null,
      "outputs": []
    },
    {
      "cell_type": "markdown",
      "metadata": {
        "id": "rhRH_H19Rvk6"
      },
      "source": [
        "4. Metricas de desempenho \n",
        "\n",
        "(Usar as métricas de desempenho para comparar os resultados)"
      ]
    },
    {
      "cell_type": "code",
      "metadata": {
        "id": "SrnDaJogR2Vz"
      },
      "source": [],
      "execution_count": null,
      "outputs": []
    },
    {
      "cell_type": "markdown",
      "metadata": {
        "id": "4ntLK1s6R3ED"
      },
      "source": [
        "5. Conclusão\n",
        "\n",
        "Qual dos modelos conseguiu o melhor desempenho?"
      ]
    }
  ]
}